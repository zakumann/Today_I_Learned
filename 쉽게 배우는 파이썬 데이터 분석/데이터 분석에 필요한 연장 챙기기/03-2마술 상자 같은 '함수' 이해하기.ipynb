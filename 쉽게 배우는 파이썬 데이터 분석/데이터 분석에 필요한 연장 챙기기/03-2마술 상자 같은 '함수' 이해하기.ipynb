{
 "cells": [
  {
   "cell_type": "markdown",
   "id": "f123e995",
   "metadata": {},
   "source": [
    "마술 상자 같은 '함수 이해하기"
   ]
  },
  {
   "cell_type": "markdown",
   "id": "256f504e",
   "metadata": {},
   "source": [
    "## 데이터 분석은 함수로 시작해 함수로 끝난다.\n",
    "\n",
    "데이터 분석은 '함수를 이용해서 변수를 조작하는 일'이다. 분석 작업은 대부분 함수를 다루는 것으로 시작해 함수를 다루는 것으로 끝난다. 데이터 분석을 공부한느 것은 함수의 기능과 조작 방법을 익히는 과정이다. 다양한 함수를 능숙하게 다룰수록 데이터를 의도한 대로 분석할 수 있다."
   ]
  },
  {
   "cell_type": "markdown",
   "id": "96d73fc5",
   "metadata": {},
   "source": [
    "## 함수는 마법 상자 같은 기능을 한다.\n",
    "\n",
    "함수에 값을 넣으면 특정한 기능을 수행해 처음과 다른 값으로 만든다.\n",
    "\n",
    "함수에 3개의 숫자 1, 2, 3을 넣었더니 2가 나온다. 이는 함수에서 평균을 구하는 기능을 했다. 숫자를 모두 더한 다음에 3으로 나눠 2를 출력한 것이다."
   ]
  },
  {
   "cell_type": "markdown",
   "id": "37847b65",
   "metadata": {},
   "source": [
    "함수는 '함수 이름'과 '괄호'로 구성되어있다. 함수 이름을 쓰고 그 뒤에 괄호를 입력한 다음 함수의 기능을 적용할 값이나 변수를 입력하면 된다.\n",
    "\n",
    "합계를 구하는 함수 sum()을 사용한다면, 우선 []을 이용해 3개의 숫자 1, 2, 3으로 구성된 변수를 만들고, 이렇게 만든 변수를 sum()을 넣어 합계를 구해보기로 한다."
   ]
  },
  {
   "cell_type": "code",
   "execution_count": 1,
   "id": "fe3a797a",
   "metadata": {},
   "outputs": [
    {
     "data": {
      "text/plain": [
       "[1, 2, 3]"
      ]
     },
     "execution_count": 1,
     "metadata": {},
     "output_type": "execute_result"
    }
   ],
   "source": [
    "# 변수 만들기\n",
    "x = [1, 2, 3]\n",
    "x"
   ]
  },
  {
   "cell_type": "code",
   "execution_count": 2,
   "id": "2d85e0a4",
   "metadata": {},
   "outputs": [
    {
     "data": {
      "text/plain": [
       "6"
      ]
     },
     "execution_count": 2,
     "metadata": {},
     "output_type": "execute_result"
    }
   ],
   "source": [
    "# 함수 적용하기\n",
    "sum(x)"
   ]
  },
  {
   "cell_type": "markdown",
   "id": "00672ec8",
   "metadata": {},
   "source": [
    "### max()을 이용해서 최대값, min()을 이용해 최소값을 구하기"
   ]
  },
  {
   "cell_type": "code",
   "execution_count": 3,
   "id": "ea4ea952",
   "metadata": {},
   "outputs": [
    {
     "data": {
      "text/plain": [
       "3"
      ]
     },
     "execution_count": 3,
     "metadata": {},
     "output_type": "execute_result"
    }
   ],
   "source": [
    "max(x)"
   ]
  },
  {
   "cell_type": "code",
   "execution_count": 4,
   "id": "51228b30",
   "metadata": {},
   "outputs": [
    {
     "data": {
      "text/plain": [
       "1"
      ]
     },
     "execution_count": 4,
     "metadata": {},
     "output_type": "execute_result"
    }
   ],
   "source": [
    "min(x)"
   ]
  },
  {
   "cell_type": "markdown",
   "id": "b6879cc1",
   "metadata": {},
   "source": [
    "함수의 결과물로 새 변수 만들기\n",
    "\n",
    "함수의 결과물을 바로 출력할 수도 있지만, 세 변수에 집어넣을 수도 있다. 변수를 만들 때처럼 함수 앞에 변수명과 =를 입력하면 된다."
   ]
  },
  {
   "cell_type": "code",
   "execution_count": 5,
   "id": "4596374c",
   "metadata": {},
   "outputs": [
    {
     "data": {
      "text/plain": [
       "6"
      ]
     },
     "execution_count": 5,
     "metadata": {},
     "output_type": "execute_result"
    }
   ],
   "source": [
    "x_sum = sum(x)\n",
    "x_sum"
   ]
  },
  {
   "cell_type": "code",
   "execution_count": 6,
   "id": "e168dea8",
   "metadata": {},
   "outputs": [
    {
     "data": {
      "text/plain": [
       "3"
      ]
     },
     "execution_count": 6,
     "metadata": {},
     "output_type": "execute_result"
    }
   ],
   "source": [
    "x_max = max(x)\n",
    "x_max"
   ]
  },
  {
   "cell_type": "code",
   "execution_count": null,
   "id": "5195424b",
   "metadata": {},
   "outputs": [],
   "source": []
  }
 ],
 "metadata": {
  "kernelspec": {
   "display_name": "Python 3 (ipykernel)",
   "language": "python",
   "name": "python3"
  },
  "language_info": {
   "codemirror_mode": {
    "name": "ipython",
    "version": 3
   },
   "file_extension": ".py",
   "mimetype": "text/x-python",
   "name": "python",
   "nbconvert_exporter": "python",
   "pygments_lexer": "ipython3",
   "version": "3.9.7"
  }
 },
 "nbformat": 4,
 "nbformat_minor": 5
}
