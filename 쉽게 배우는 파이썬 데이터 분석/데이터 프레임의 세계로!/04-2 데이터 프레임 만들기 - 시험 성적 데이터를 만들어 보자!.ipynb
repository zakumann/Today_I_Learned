{
 "cells": [
  {
   "cell_type": "markdown",
   "id": "3ce89347",
   "metadata": {},
   "source": [
    "데이터 프레임은 데이터를 직접 입력해서 만들 수도 있고, 외부 데이터를 가져와서 만들 수도 있다."
   ]
  },
  {
   "cell_type": "markdown",
   "id": "792a82a8",
   "metadata": {},
   "source": [
    "|이름|영어 점수|수학 점수|\n",
    "|----|---------|---------|\n",
    "|김지훈|90|50|\n",
    "|이유진|80|60|\n",
    "|박동현|60|100|\n",
    "|김민지|70|20|"
   ]
  },
  {
   "cell_type": "markdown",
   "id": "5fffcf36",
   "metadata": {},
   "source": [
    "# pandas 패키지 로드하기\n",
    "\n",
    "먼저 pandas 패키지를 로드한다. pandas는 데이터를 가공할 때 사용하는 패키지이다."
   ]
  },
  {
   "cell_type": "code",
   "execution_count": 1,
   "id": "564b31ab",
   "metadata": {},
   "outputs": [],
   "source": [
    "import pandas as pd"
   ]
  },
  {
   "cell_type": "markdown",
   "id": "71d6c18d",
   "metadata": {},
   "source": [
    "# 데이터 프레임 만들기\n",
    "\n",
    "데이터 프레임을 만들 때는 pandas의 DataFrame()을 이용한다. DataFrame()에서 D와 F는 대문자로 입력해야 하니 주의해야 한다. 함수 이름은 소문자로만 되어 있기도 하고 대소문자가 섞여 있기도 한다.\n",
    "\n",
    "DataFrame()에 중괄호{}를 입력한 다음 변수명, 콜론(:), 변수에 넣을 값을 차례로 입력한다. 변수명은 따옴표를 이용해 문자 형태로 입력하고 ,변수에 넣을 값은 []안에 입력한다."
   ]
  },
  {
   "cell_type": "code",
   "execution_count": 2,
   "id": "10fba6ff",
   "metadata": {},
   "outputs": [
    {
     "data": {
      "text/html": [
       "<div>\n",
       "<style scoped>\n",
       "    .dataframe tbody tr th:only-of-type {\n",
       "        vertical-align: middle;\n",
       "    }\n",
       "\n",
       "    .dataframe tbody tr th {\n",
       "        vertical-align: top;\n",
       "    }\n",
       "\n",
       "    .dataframe thead th {\n",
       "        text-align: right;\n",
       "    }\n",
       "</style>\n",
       "<table border=\"1\" class=\"dataframe\">\n",
       "  <thead>\n",
       "    <tr style=\"text-align: right;\">\n",
       "      <th></th>\n",
       "      <th>name</th>\n",
       "      <th>english</th>\n",
       "      <th>math</th>\n",
       "    </tr>\n",
       "  </thead>\n",
       "  <tbody>\n",
       "    <tr>\n",
       "      <th>0</th>\n",
       "      <td>김지훈</td>\n",
       "      <td>90</td>\n",
       "      <td>50</td>\n",
       "    </tr>\n",
       "    <tr>\n",
       "      <th>1</th>\n",
       "      <td>이유진</td>\n",
       "      <td>80</td>\n",
       "      <td>60</td>\n",
       "    </tr>\n",
       "    <tr>\n",
       "      <th>2</th>\n",
       "      <td>박동현</td>\n",
       "      <td>60</td>\n",
       "      <td>100</td>\n",
       "    </tr>\n",
       "    <tr>\n",
       "      <th>3</th>\n",
       "      <td>김민지</td>\n",
       "      <td>70</td>\n",
       "      <td>20</td>\n",
       "    </tr>\n",
       "  </tbody>\n",
       "</table>\n",
       "</div>"
      ],
      "text/plain": [
       "  name  english  math\n",
       "0  김지훈       90    50\n",
       "1  이유진       80    60\n",
       "2  박동현       60   100\n",
       "3  김민지       70    20"
      ]
     },
     "execution_count": 2,
     "metadata": {},
     "output_type": "execute_result"
    }
   ],
   "source": [
    "df = pd.DataFrame({'name' : ['김지훈','이유진','박동현','김민지'],\n",
    "                  'english' : [90,80,60,70],\n",
    "                  'math' : [50, 60, 100, 20]})\n",
    "df"
   ]
  },
  {
   "cell_type": "markdown",
   "id": "fc860214",
   "metadata": {},
   "source": [
    "데이터 프레임을 완성했으니 데이터를 분석해 보기로 한다. sum()을 이용해 전체 학생의 영어 점수와 수학 점수 합계를 구한다.\n",
    "\n",
    "# 특정 변수의 값 추출하기\n",
    "\n",
    "데이터 프레임에서 특정 변수의 값을 추출하는 방법을 알아본다. 데이터 프레임 이름 뒤에 []를 입력한 다음 문자 형태로 변수명을 입력하면 된다. 다음 코드를 실행하면 df에서 영어 점수만 추출한다."
   ]
  },
  {
   "cell_type": "code",
   "execution_count": 3,
   "id": "99b48ae6",
   "metadata": {},
   "outputs": [
    {
     "data": {
      "text/plain": [
       "0    90\n",
       "1    80\n",
       "2    60\n",
       "3    70\n",
       "Name: english, dtype: int64"
      ]
     },
     "execution_count": 3,
     "metadata": {},
     "output_type": "execute_result"
    }
   ],
   "source": [
    "df['english']"
   ]
  },
  {
   "cell_type": "markdown",
   "id": "634519bf",
   "metadata": {},
   "source": [
    "# 변수의 값으로 합계 구하기\n",
    "\n",
    "df에서 영어 점수를 추출하는 코드를 sum()에 입력하면 영어 점수 합계를 출력한다."
   ]
  },
  {
   "cell_type": "code",
   "execution_count": 5,
   "id": "c0ffa04f",
   "metadata": {},
   "outputs": [
    {
     "data": {
      "text/plain": [
       "300"
      ]
     },
     "execution_count": 5,
     "metadata": {},
     "output_type": "execute_result"
    }
   ],
   "source": [
    "sum(df['english'])"
   ]
  },
  {
   "cell_type": "code",
   "execution_count": 6,
   "id": "a5dc097d",
   "metadata": {},
   "outputs": [
    {
     "data": {
      "text/plain": [
       "230"
      ]
     },
     "execution_count": 6,
     "metadata": {},
     "output_type": "execute_result"
    }
   ],
   "source": [
    "# 같은 방식으로 english 대신 math를 입력해 수학 점수 합계를 구할 수 있다.\n",
    "sum(df['math'])"
   ]
  },
  {
   "cell_type": "markdown",
   "id": "3297ddc3",
   "metadata": {},
   "source": [
    "# 변수의 값으로 평균 구하기\n",
    "\n",
    "이번에는 영어 점수와 수학 점수의 평균을 구해 보기로 한다. 앞에서 구한 합계를 학생 수로 나누면 된다."
   ]
  },
  {
   "cell_type": "code",
   "execution_count": 7,
   "id": "7f1e5ee7",
   "metadata": {},
   "outputs": [
    {
     "data": {
      "text/plain": [
       "75.0"
      ]
     },
     "execution_count": 7,
     "metadata": {},
     "output_type": "execute_result"
    }
   ],
   "source": [
    "sum(df['english']) / 4 #영어 점수 평균"
   ]
  },
  {
   "cell_type": "code",
   "execution_count": 8,
   "id": "8b24bfad",
   "metadata": {},
   "outputs": [
    {
     "data": {
      "text/plain": [
       "57.5"
      ]
     },
     "execution_count": 8,
     "metadata": {},
     "output_type": "execute_result"
    }
   ],
   "source": [
    "sum(df['math']) / 4 # 수학 점수 평균"
   ]
  }
 ],
 "metadata": {
  "kernelspec": {
   "display_name": "Python 3 (ipykernel)",
   "language": "python",
   "name": "python3"
  },
  "language_info": {
   "codemirror_mode": {
    "name": "ipython",
    "version": 3
   },
   "file_extension": ".py",
   "mimetype": "text/x-python",
   "name": "python",
   "nbconvert_exporter": "python",
   "pygments_lexer": "ipython3",
   "version": "3.9.7"
  }
 },
 "nbformat": 4,
 "nbformat_minor": 5
}
