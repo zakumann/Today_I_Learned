{
 "cells": [
  {
   "cell_type": "markdown",
   "id": "9e15b7bc-d883-4caf-9e60-0822df9ed3e0",
   "metadata": {},
   "source": [
    "변수 만들기"
   ]
  },
  {
   "cell_type": "code",
   "execution_count": null,
   "id": "121206ef-b7bf-4cb1-ba39-5dc610d08cb7",
   "metadata": {},
   "outputs": [],
   "source": [
    "데이터 분석은 변수를 만드는 것으로 시작한다. 변수를 만들 때는 등호(=)를 사용한다."
   ]
  },
  {
   "cell_type": "code",
   "execution_count": 3,
   "id": "960af702-86d2-4cfc-ae05-72f77e759d96",
   "metadata": {},
   "outputs": [
    {
     "data": {
      "text/plain": [
       "1"
      ]
     },
     "execution_count": 3,
     "metadata": {},
     "output_type": "execute_result"
    }
   ],
   "source": [
    "a = 1 #a에 1 할당\n",
    "a     #a 출력"
   ]
  },
  {
   "cell_type": "code",
   "execution_count": 4,
   "id": "ff6e5279-074e-4fc4-a3fa-5fee0370531b",
   "metadata": {},
   "outputs": [
    {
     "data": {
      "text/plain": [
       "2"
      ]
     },
     "execution_count": 4,
     "metadata": {},
     "output_type": "execute_result"
    }
   ],
   "source": [
    "b = 2\n",
    "b"
   ]
  },
  {
   "cell_type": "code",
   "execution_count": 5,
   "id": "77fdafe8-bd87-4ff1-ba74-89ee58d9cf7e",
   "metadata": {},
   "outputs": [
    {
     "data": {
      "text/plain": [
       "3"
      ]
     },
     "execution_count": 5,
     "metadata": {},
     "output_type": "execute_result"
    }
   ],
   "source": [
    "c = 3\n",
    "c"
   ]
  },
  {
   "cell_type": "code",
   "execution_count": 6,
   "id": "2d7b6d4d-57af-4214-a336-bf97e4ce8ef1",
   "metadata": {},
   "outputs": [
    {
     "data": {
      "text/plain": [
       "3.5"
      ]
     },
     "execution_count": 6,
     "metadata": {},
     "output_type": "execute_result"
    }
   ],
   "source": [
    "d = 3.5\n",
    "d"
   ]
  },
  {
   "cell_type": "markdown",
   "id": "aa799450-3400-4241-bfdd-8f38fe23c20c",
   "metadata": {},
   "source": [
    "변수를 만들면 변수를 이용해 연산할 수 있다."
   ]
  },
  {
   "cell_type": "code",
   "execution_count": 7,
   "id": "2756e892-986c-4260-bc88-5ac517e2c4c2",
   "metadata": {},
   "outputs": [
    {
     "data": {
      "text/plain": [
       "3"
      ]
     },
     "execution_count": 7,
     "metadata": {},
     "output_type": "execute_result"
    }
   ],
   "source": [
    "a+ b"
   ]
  },
  {
   "cell_type": "code",
   "execution_count": 8,
   "id": "41627efd-0dd7-4243-9026-ec0a25bddd42",
   "metadata": {},
   "outputs": [
    {
     "data": {
      "text/plain": [
       "6"
      ]
     },
     "execution_count": 8,
     "metadata": {},
     "output_type": "execute_result"
    }
   ],
   "source": [
    "a + b + c"
   ]
  },
  {
   "cell_type": "code",
   "execution_count": 9,
   "id": "787d9d34-36e6-4383-9f7d-b3270836505c",
   "metadata": {},
   "outputs": [
    {
     "data": {
      "text/plain": [
       "2.0"
      ]
     },
     "execution_count": 9,
     "metadata": {},
     "output_type": "execute_result"
    }
   ],
   "source": [
    "4 / b"
   ]
  },
  {
   "cell_type": "code",
   "execution_count": 10,
   "id": "a6586dca-4849-482c-b9cc-6532cc06d596",
   "metadata": {},
   "outputs": [
    {
     "data": {
      "text/plain": [
       "10"
      ]
     },
     "execution_count": 10,
     "metadata": {},
     "output_type": "execute_result"
    }
   ],
   "source": [
    "5 * b"
   ]
  },
  {
   "cell_type": "markdown",
   "id": "748dd84a-342a-46b0-a694-9f08607574ac",
   "metadata": {},
   "source": [
    "# 변수명 정하기 규칙\n",
    "\n",
    "변수명은 문자, 숫자, 언더바를 조합해 정할 수 있다. 단, 반드시 문자로 시작해야 한다.\n",
    "\n",
    "변수명은 한글로 정해도 되지만, 간혹 오류가 날 때가 있으니 영문으로 정하길 권한다. 또한 대소문자를 구분하므로 헷갈리지 않도록 모든 변수를 소문자로 만드는 습관을 들이는게 좋다."
   ]
  },
  {
   "cell_type": "markdown",
   "id": "ea391b1f-636f-4113-993c-a3dfd2397798",
   "metadata": {},
   "source": [
    "변수에는 값을 여러 개 넣을 수 있다. 대괄호 안에 쉼표를 이용해 값을 나열하면 된다."
   ]
  },
  {
   "cell_type": "code",
   "execution_count": 13,
   "id": "fde6eb2d-ab12-4e23-be51-729d19d9c043",
   "metadata": {},
   "outputs": [
    {
     "data": {
      "text/plain": [
       "[1, 2, 3]"
      ]
     },
     "execution_count": 13,
     "metadata": {},
     "output_type": "execute_result"
    }
   ],
   "source": [
    "var1 = [1,2,3]\n",
    "var1"
   ]
  },
  {
   "cell_type": "code",
   "execution_count": 14,
   "id": "d26e2bd6-0661-45e0-8c51-ab4f813f737c",
   "metadata": {},
   "outputs": [
    {
     "data": {
      "text/plain": [
       "[4, 5, 6]"
      ]
     },
     "execution_count": 14,
     "metadata": {},
     "output_type": "execute_result"
    }
   ],
   "source": [
    "var2 = [4,5,6]\n",
    "var2"
   ]
  },
  {
   "cell_type": "code",
   "execution_count": 15,
   "id": "1740cfea-d539-4919-9f25-e92e35ec1f85",
   "metadata": {},
   "outputs": [
    {
     "data": {
      "text/plain": [
       "[1, 2, 3, 4, 5, 6]"
      ]
     },
     "execution_count": 15,
     "metadata": {},
     "output_type": "execute_result"
    }
   ],
   "source": [
    "var1+ var2"
   ]
  },
  {
   "cell_type": "markdown",
   "id": "2fb1029a-9745-4cad-9d33-f8d3d8ec0042",
   "metadata": {},
   "source": [
    "# 문자로 된 변수 만들기\n",
    "\n",
    "변수에 문자를 넣을 때는 문자 앞 뒤에 땅모표(')를 붙여야 한다. 이는 문자로 구성된 변수라는 것을 의미한다."
   ]
  },
  {
   "cell_type": "code",
   "execution_count": 16,
   "id": "fccdd1a3-c705-42f8-b7f6-093e49d4f3c2",
   "metadata": {},
   "outputs": [
    {
     "data": {
      "text/plain": [
       "'a'"
      ]
     },
     "execution_count": 16,
     "metadata": {},
     "output_type": "execute_result"
    }
   ],
   "source": [
    "str1 = 'a'\n",
    "str1"
   ]
  },
  {
   "cell_type": "code",
   "execution_count": 17,
   "id": "b77ac344-54a2-4364-a496-6a4353510082",
   "metadata": {},
   "outputs": [
    {
     "data": {
      "text/plain": [
       "'text'"
      ]
     },
     "execution_count": 17,
     "metadata": {},
     "output_type": "execute_result"
    }
   ],
   "source": [
    "str2='text'\n",
    "str2"
   ]
  },
  {
   "cell_type": "code",
   "execution_count": 18,
   "id": "e72f7a13-bc2a-40ef-a38c-3428484e568f",
   "metadata": {},
   "outputs": [
    {
     "data": {
      "text/plain": [
       "'Heelo World!'"
      ]
     },
     "execution_count": 18,
     "metadata": {},
     "output_type": "execute_result"
    }
   ],
   "source": [
    "str3 = 'Heelo World!'\n",
    "str3"
   ]
  },
  {
   "cell_type": "markdown",
   "id": "d0cde13d-5bb9-499d-851e-00a3c7115b74",
   "metadata": {},
   "source": [
    "'[]'에 숫자 여러 개를 넣어 변수를 만드는 것과 마찬가지로, '[]'에 문자 여러 개를 넣어 변수를 만들 수 있다."
   ]
  },
  {
   "cell_type": "code",
   "execution_count": 20,
   "id": "cd76096a-5bd0-4b1f-9138-9de377a96b12",
   "metadata": {},
   "outputs": [
    {
     "data": {
      "text/plain": [
       "['a', 'b', 'c']"
      ]
     },
     "execution_count": 20,
     "metadata": {},
     "output_type": "execute_result"
    }
   ],
   "source": [
    "str4=['a','b','c']\n",
    "str4"
   ]
  },
  {
   "cell_type": "code",
   "execution_count": 21,
   "id": "a4afdc70-7710-405e-a5e5-50c98424021e",
   "metadata": {},
   "outputs": [
    {
     "data": {
      "text/plain": [
       "['Hello', 'World', 'is', 'good!']"
      ]
     },
     "execution_count": 21,
     "metadata": {},
     "output_type": "execute_result"
    }
   ],
   "source": [
    "str5=['Hello','World','is','good!']\n",
    "str5"
   ]
  },
  {
   "cell_type": "code",
   "execution_count": 22,
   "id": "0bd706b2-0fc4-4dec-9d09-0265ac98b0fa",
   "metadata": {},
   "outputs": [
    {
     "data": {
      "text/plain": [
       "'textHeelo World!'"
      ]
     },
     "execution_count": 22,
     "metadata": {},
     "output_type": "execute_result"
    }
   ],
   "source": [
    "str2 + str3"
   ]
  },
  {
   "cell_type": "code",
   "execution_count": 23,
   "id": "af664ff2-d9a8-4a96-b837-b605ff3af8e9",
   "metadata": {},
   "outputs": [
    {
     "data": {
      "text/plain": [
       "'text Heelo World!'"
      ]
     },
     "execution_count": 23,
     "metadata": {},
     "output_type": "execute_result"
    }
   ],
   "source": [
    "str2 + ' ' + str3"
   ]
  },
  {
   "cell_type": "markdown",
   "id": "0e77a010-0b4f-4f3c-8b98-ca7e52e53b86",
   "metadata": {},
   "source": [
    "## 문자로 된 변수로는 연산할 수 없다.\n",
    "숫자로 된 변수와 달리 문자로 된 변수로는 연산할 수 없다. 문자 변수로 연산하면 에러 메시지를 출력한다."
   ]
  },
  {
   "cell_type": "code",
   "execution_count": 25,
   "id": "60212d82-9dfc-46f9-8bbe-bf6305ffbbfb",
   "metadata": {},
   "outputs": [
    {
     "ename": "TypeError",
     "evalue": "can only concatenate str (not \"int\") to str",
     "output_type": "error",
     "traceback": [
      "\u001b[1;31m---------------------------------------------------------------------------\u001b[0m",
      "\u001b[1;31mTypeError\u001b[0m                                 Traceback (most recent call last)",
      "\u001b[1;32m~\\AppData\\Local\\Temp/ipykernel_5276/2769996813.py\u001b[0m in \u001b[0;36m<module>\u001b[1;34m\u001b[0m\n\u001b[1;32m----> 1\u001b[1;33m \u001b[0mstr1\u001b[0m \u001b[1;33m+\u001b[0m \u001b[1;36m2\u001b[0m\u001b[1;33m\u001b[0m\u001b[1;33m\u001b[0m\u001b[0m\n\u001b[0m",
      "\u001b[1;31mTypeError\u001b[0m: can only concatenate str (not \"int\") to str"
     ]
    }
   ],
   "source": [
    "str1 + 2"
   ]
  },
  {
   "cell_type": "code",
   "execution_count": null,
   "id": "63ad3ccf-c5e4-4d98-b2dc-7e85e6bfaa6c",
   "metadata": {},
   "outputs": [],
   "source": []
  }
 ],
 "metadata": {
  "kernelspec": {
   "display_name": "Python 3 (ipykernel)",
   "language": "python",
   "name": "python3"
  },
  "language_info": {
   "codemirror_mode": {
    "name": "ipython",
    "version": 3
   },
   "file_extension": ".py",
   "mimetype": "text/x-python",
   "name": "python",
   "nbconvert_exporter": "python",
   "pygments_lexer": "ipython3",
   "version": "3.9.7"
  }
 },
 "nbformat": 4,
 "nbformat_minor": 5
}
